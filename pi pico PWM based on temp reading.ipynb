{
 "cells": [
  {
   "attachments": {},
   "cell_type": "markdown",
   "metadata": {},
   "source": [
    "this is dummy code to take advantage of copilot "
   ]
  },
  {
   "cell_type": "code",
   "execution_count": null,
   "metadata": {},
   "outputs": [],
   "source": [
    "\n",
    "\n",
    "\n",
    "\n",
    "\n",
    "\n",
    "# a linear function to determine the PWM duty cycle based on the temperature reading\n",
    "# when the temperature is below 10 C, the duty cycle is 20, when the temperature is 60 C, the duty cycle is 100\n",
    "# the duty cycle is linearly interpolated between 20 and 100\n",
    "# the PWM frequency is 1 kHz\n",
    "# the PWM is output on pin 0\n",
    "# the temperature is read from the on-board temperature sensor\n",
    "\n",
    "\n",
    "import machine\n",
    "import utime\n",
    "\n",
    "# set up the PWM\n",
    "pwm = machine.PWM(machine.Pin(0))\n",
    "pwm.freq(1000)\n",
    "\n",
    "#duty_cycle = 50\n",
    "#pwm.duty_u16(int(50 * 65535 / 100))\n",
    "\n",
    "\n",
    "# set up the temperature sensor\n",
    "adc = machine.ADC(4)\n",
    "\n",
    "# set up the linear function\n",
    "# the temperature is in Celsius\n",
    "# the duty cycle is in percent\n",
    "def duty_cycle(temperature):\n",
    "    return 20 + (temperature - 10) * 80 / 50\n",
    "\n",
    "# main loop\n",
    "while True:\n",
    "    # read the temperature\n",
    "    temp = adc.read_u16() / 65535 * 3.3\n",
    "    temp = (temp - 0.706) / 0.001721\n",
    "    print(temp)\n",
    "    \n",
    "    # set the duty cycle\n",
    "    pwm.duty_u16(int(duty_cycle(temp) * 65535 / 100))\n",
    "    \n",
    "    # wait 0.1 s\n",
    "    utime.sleep(0.1)\n",
    "    # blink on-board LED to indicate the pwm value, led blink faster when the pwm value is higher\n",
    "    machine.Pin(25, machine.Pin.OUT).value(1)\n",
    "    utime.sleep_ms(int(duty_cycle(temp)))\n",
    "    machine.Pin(25, machine.Pin.OUT).value(0)\n",
    "    utime.sleep_ms(int(duty_cycle(temp)))\n",
    "\n",
    "    # send the temperature to the serial port\n",
    "    #print(temp)\n",
    "\n",
    "    # ask for input in serial port, if no input then the loop after 1s \n",
    "    #utime.sleep(1)\n",
    "\n",
    " \n",
    "\n",
    "\n",
    " \n"
   ]
  },
  {
   "cell_type": "code",
   "execution_count": null,
   "metadata": {},
   "outputs": [],
   "source": []
  },
  {
   "cell_type": "code",
   "execution_count": null,
   "metadata": {},
   "outputs": [],
   "source": []
  }
 ],
 "metadata": {
  "language_info": {
   "name": "python"
  },
  "orig_nbformat": 4
 },
 "nbformat": 4,
 "nbformat_minor": 2
}
